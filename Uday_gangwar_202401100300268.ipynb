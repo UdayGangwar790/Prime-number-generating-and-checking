{
  "nbformat": 4,
  "nbformat_minor": 0,
  "metadata": {
    "colab": {
      "provenance": []
    },
    "kernelspec": {
      "name": "python3",
      "display_name": "Python 3"
    },
    "language_info": {
      "name": "python"
    }
  },
  "cells": [
    {
      "cell_type": "code",
      "execution_count": 4,
      "metadata": {
        "colab": {
          "base_uri": "https://localhost:8080/"
        },
        "id": "5-sMQTkrhC4-",
        "outputId": "1bc27f47-8fd6-452e-a2c4-30a6782aa2d2"
      },
      "outputs": [
        {
          "output_type": "stream",
          "name": "stdout",
          "text": [
            "Prime Number Checker and Generator\n",
            "Do you want to (1) check if a number is prime or (2) generate primes up to a limit? Enter 1 or 2: 1\n",
            "Enter a number to check if it's prime: 2\n",
            "2 is a prime number.\n"
          ]
        }
      ],
      "source": [
        "# Function to check if a number is prime\n",
        "def is_prime(n):\n",
        "    # If the number is less than or equal to 1, it's not a prime number\n",
        "    if n <= 1:\n",
        "        return False\n",
        "\n",
        "    # Check for divisibility from 2 to the square root of n\n",
        "    for i in range(2, int(n ** 0.5) + 1):\n",
        "        # If n is divisible by any number in this range, it's not prime\n",
        "        if n % i == 0:\n",
        "            return False\n",
        "\n",
        "    # If no divisors were found, n is a prime number\n",
        "    return True\n",
        "\n",
        "# Function to generate a list of prime numbers up to a given limit\n",
        "def generate_primes(limit):\n",
        "    primes = []  # List to store the prime numbers\n",
        "    # Iterate through numbers from 2 to the given limit\n",
        "    for num in range(2, limit + 1):\n",
        "        # If the current number is prime, add it to the list\n",
        "        if is_prime(num):\n",
        "            primes.append(num)\n",
        "\n",
        "    # Return the list of prime numbers\n",
        "    return primes\n",
        "\n",
        "# Main program to interact with the user\n",
        "print(\"Prime Number Checker and Generator\")\n",
        "\n",
        "# Ask the user what they want to do\n",
        "choice = input(\"Do you want to (1) check if a number is prime or (2) generate primes up to a limit? Enter 1 or 2: \")\n",
        "\n",
        "# If the user chose to check if a number is prime\n",
        "if choice == \"1\":\n",
        "    # Ask the user to input a number\n",
        "    num = int(input(\"Enter a number to check if it's prime: \"))\n",
        "\n",
        "    # Use the is_prime function to check if the number is prime\n",
        "    if is_prime(num):\n",
        "        print(f\"{num} is a prime number.\")\n",
        "    else:\n",
        "        print(f\"{num} is not a prime number.\")\n",
        "\n",
        "# If the user chose to generate prime numbers up to a limit\n",
        "elif choice == \"2\":\n",
        "    # Ask the user to input the limit\n",
        "    limit = int(input(\"Enter a limit to generate prime numbers: \"))\n",
        "\n",
        "    # Use the generate_primes function to get all primes up to the limit\n",
        "    primes = generate_primes(limit)\n",
        "\n",
        "    # Print the list of primes\n",
        "    print(f\"Prime numbers up to {limit}: {primes}\")\n",
        "\n",
        "# If the user entered an invalid option\n",
        "else:\n",
        "    print(\"Invalid choice.\")\n"
      ]
    },
    {
      "cell_type": "code",
      "source": [
        "# Function to check if a number is prime\n",
        "def is_prime(n):\n",
        "    # If the number is less than or equal to 1, it's not a prime number\n",
        "    if n <= 1:\n",
        "        return False\n",
        "\n",
        "    # Check for divisibility from 2 to the square root of n\n",
        "    for i in range(2, int(n ** 0.5) + 1):\n",
        "        # If n is divisible by any number in this range, it's not prime\n",
        "        if n % i == 0:\n",
        "            return False\n",
        "\n",
        "    # If no divisors were found, n is a prime number\n",
        "    return True\n",
        "\n",
        "# Function to generate a list of prime numbers up to a given limit\n",
        "def generate_primes(limit):\n",
        "    primes = []  # List to store the prime numbers\n",
        "    # Iterate through numbers from 2 to the given limit\n",
        "    for num in range(2, limit + 1):\n",
        "        # If the current number is prime, add it to the list\n",
        "        if is_prime(num):\n",
        "            primes.append(num)\n",
        "\n",
        "    # Return the list of prime numbers\n",
        "    return primes\n",
        "\n",
        "# Main program to interact with the user\n",
        "print(\"Prime Number Checker and Generator\")\n",
        "\n",
        "# Ask the user what they want to do\n",
        "choice = input(\"Do you want to (1) check if a number is prime or (2) generate primes up to a limit? Enter 1 or 2: \")\n",
        "\n",
        "# If the user chose to check if a number is prime\n",
        "if choice == \"1\":\n",
        "    # Ask the user to input a number\n",
        "    num = int(input(\"Enter a number to check if it's prime: \"))\n",
        "\n",
        "    # Use the is_prime function to check if the number is prime\n",
        "    if is_prime(num):\n",
        "        print(f\"{num} is a prime number.\")\n",
        "    else:\n",
        "        print(f\"{num} is not a prime number.\")\n",
        "\n",
        "# If the user chose to generate prime numbers up to a limit\n",
        "elif choice == \"2\":\n",
        "    # Ask the user to input the limit\n",
        "    limit = int(input(\"Enter a limit to generate prime numbers: \"))\n",
        "\n",
        "    # Use the generate_primes function to get all primes up to the limit\n",
        "    primes = generate_primes(limit)\n",
        "\n",
        "    # Print the list of primes\n",
        "    print(f\"Prime numbers up to {limit}: {primes}\")\n",
        "\n",
        "# If the user entered an invalid option\n",
        "else:\n",
        "    print(\"Invalid choice.\")\n"
      ],
      "metadata": {
        "colab": {
          "base_uri": "https://localhost:8080/"
        },
        "id": "8JE4N1BGi_Gs",
        "outputId": "b2e56872-d2a4-4836-9ef9-f194852251eb"
      },
      "execution_count": 5,
      "outputs": [
        {
          "output_type": "stream",
          "name": "stdout",
          "text": [
            "Prime Number Checker and Generator\n",
            "Do you want to (1) check if a number is prime or (2) generate primes up to a limit? Enter 1 or 2: 2\n",
            "Enter a limit to generate prime numbers: 45\n",
            "Prime numbers up to 45: [2, 3, 5, 7, 11, 13, 17, 19, 23, 29, 31, 37, 41, 43]\n"
          ]
        }
      ]
    }
  ]
}